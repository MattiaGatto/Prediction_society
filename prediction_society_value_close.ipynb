{
  "nbformat": 4,
  "nbformat_minor": 0,
  "metadata": {
    "colab": {
      "provenance": [],
      "collapsed_sections": [
        "LYDRiqakSmox"
      ],
      "authorship_tag": "ABX9TyMmFwDogpwJiAWTlCyaOQDF",
      "include_colab_link": true
    },
    "kernelspec": {
      "name": "python3",
      "display_name": "Python 3"
    },
    "language_info": {
      "name": "python"
    },
    "accelerator": "GPU",
    "gpuClass": "standard"
  },
  "cells": [
    {
      "cell_type": "markdown",
      "metadata": {
        "id": "view-in-github",
        "colab_type": "text"
      },
      "source": [
        "<a href=\"https://colab.research.google.com/github/MattiaGatto/Prediction_society/blob/main/prediction_society_value_close.ipynb\" target=\"_parent\"><img src=\"https://colab.research.google.com/assets/colab-badge.svg\" alt=\"Open In Colab\"/></a>"
      ]
    },
    {
      "cell_type": "markdown",
      "source": [
        "# Modello che preveda i prezzi delle azioni di una azienda x giorni nel futuro in base al prezzo di chiusura corrente."
      ],
      "metadata": {
        "id": "LYDRiqakSmox"
      }
    },
    {
      "cell_type": "markdown",
      "source": [
        "---\n",
        "# Librerie necessarie all'utilizzo"
      ],
      "metadata": {
        "id": "QX7Le44Bum0a"
      }
    },
    {
      "cell_type": "code",
      "execution_count": 1,
      "metadata": {
        "colab": {
          "base_uri": "https://localhost:8080/"
        },
        "id": "IITWNHjySb6d",
        "outputId": "c89a5eb7-590b-4d04-ae5b-b2d2d23fe189"
      },
      "outputs": [
        {
          "output_type": "stream",
          "name": "stdout",
          "text": [
            "Looking in indexes: https://pypi.org/simple, https://us-python.pkg.dev/colab-wheels/public/simple/\n",
            "Requirement already satisfied: pandas in /usr/local/lib/python3.7/dist-packages (1.3.5)\n",
            "Requirement already satisfied: pytz>=2017.3 in /usr/local/lib/python3.7/dist-packages (from pandas) (2022.2.1)\n",
            "Requirement already satisfied: python-dateutil>=2.7.3 in /usr/local/lib/python3.7/dist-packages (from pandas) (2.8.2)\n",
            "Requirement already satisfied: numpy>=1.17.3 in /usr/local/lib/python3.7/dist-packages (from pandas) (1.21.6)\n",
            "Requirement already satisfied: six>=1.5 in /usr/local/lib/python3.7/dist-packages (from python-dateutil>=2.7.3->pandas) (1.15.0)\n",
            "Looking in indexes: https://pypi.org/simple, https://us-python.pkg.dev/colab-wheels/public/simple/\n",
            "Requirement already satisfied: pandas-datareader in /usr/local/lib/python3.7/dist-packages (0.10.0)\n",
            "Requirement already satisfied: requests>=2.19.0 in /usr/local/lib/python3.7/dist-packages (from pandas-datareader) (2.23.0)\n",
            "Requirement already satisfied: lxml in /usr/local/lib/python3.7/dist-packages (from pandas-datareader) (4.9.1)\n",
            "Requirement already satisfied: pandas>=0.23 in /usr/local/lib/python3.7/dist-packages (from pandas-datareader) (1.3.5)\n",
            "Requirement already satisfied: pytz>=2017.3 in /usr/local/lib/python3.7/dist-packages (from pandas>=0.23->pandas-datareader) (2022.2.1)\n",
            "Requirement already satisfied: numpy>=1.17.3 in /usr/local/lib/python3.7/dist-packages (from pandas>=0.23->pandas-datareader) (1.21.6)\n",
            "Requirement already satisfied: python-dateutil>=2.7.3 in /usr/local/lib/python3.7/dist-packages (from pandas>=0.23->pandas-datareader) (2.8.2)\n",
            "Requirement already satisfied: six>=1.5 in /usr/local/lib/python3.7/dist-packages (from python-dateutil>=2.7.3->pandas>=0.23->pandas-datareader) (1.15.0)\n",
            "Requirement already satisfied: idna<3,>=2.5 in /usr/local/lib/python3.7/dist-packages (from requests>=2.19.0->pandas-datareader) (2.10)\n",
            "Requirement already satisfied: urllib3!=1.25.0,!=1.25.1,<1.26,>=1.21.1 in /usr/local/lib/python3.7/dist-packages (from requests>=2.19.0->pandas-datareader) (1.24.3)\n",
            "Requirement already satisfied: certifi>=2017.4.17 in /usr/local/lib/python3.7/dist-packages (from requests>=2.19.0->pandas-datareader) (2022.6.15)\n",
            "Requirement already satisfied: chardet<4,>=3.0.2 in /usr/local/lib/python3.7/dist-packages (from requests>=2.19.0->pandas-datareader) (3.0.4)\n",
            "Drive already mounted at /content/drive; to attempt to forcibly remount, call drive.mount(\"/content/drive\", force_remount=True).\n"
          ]
        }
      ],
      "source": [
        "!pip install --upgrade pandas\n",
        "!pip install --upgrade pandas-datareader\n",
        "import math\n",
        "import pandas_datareader as web\n",
        "import numpy as np\n",
        "import pandas as pd\n",
        "from sklearn.preprocessing import MinMaxScaler\n",
        "from keras.models import Sequential\n",
        "from keras.layers import Dense, LSTM\n",
        "import matplotlib.pyplot as plt\n",
        "from datetime import datetime\n",
        "from joblib import dump, load \n",
        "from pathlib import Path\n",
        "from sklearn.metrics import mean_squared_error\n",
        "plt.style.use('fivethirtyeight')\n",
        "from google.colab import drive\n",
        "drive.mount('/content/drive')"
      ]
    },
    {
      "cell_type": "markdown",
      "source": [
        "## Riceverò la quotazione delle azioni della società \"Apple Inc.\" utilizzando il ticker di borsa delle società (AAPL) da 40 anni fa ad oggi.\n",
        "\n"
      ],
      "metadata": {
        "id": "gjODt-p_SzLu"
      }
    },
    {
      "cell_type": "code",
      "source": [
        "INTERVALLO_ANNI=40\n",
        "\n",
        "today=datetime.today().strftime('%Y-%m-%d')\n",
        "start=str( datetime(int(today[:4])-INTERVALLO_ANNI,int(today[5:7]),int(today[8:])))[:10]\n",
        "print(\"from\",start,\"to\",today)\n",
        "\n",
        "society='AAPL'\n",
        "\n",
        "#Ricevi la quotazione di borsa \n",
        "df = web.DataReader(society, data_source='yahoo', start=start, end=today) \n",
        "\n",
        "#stampa il numero di righe e colonne nel set di dati.\n",
        "print(df.shape)\n",
        "\n",
        "#stampa le quotazioni\n",
        "df"
      ],
      "metadata": {
        "id": "hC7i-4HiSsAn",
        "colab": {
          "base_uri": "https://localhost:8080/",
          "height": 490
        },
        "outputId": "30ea10e9-9b6e-45f0-827a-0cbe4f1562fd"
      },
      "execution_count": 2,
      "outputs": [
        {
          "output_type": "stream",
          "name": "stdout",
          "text": [
            "from 1982-09-02 to 2022-09-02\n",
            "(10085, 6)\n"
          ]
        },
        {
          "output_type": "execute_result",
          "data": {
            "text/plain": [
              "                  High         Low        Open       Close       Volume  \\\n",
              "Date                                                                      \n",
              "1982-09-02    0.082031    0.081473    0.081473    0.081473   75420800.0   \n",
              "1982-09-03    0.082589    0.082031    0.082031    0.082031  104540800.0   \n",
              "1982-09-07    0.078125    0.077567    0.078125    0.077567   81379200.0   \n",
              "1982-09-08    0.080915    0.080357    0.080357    0.080357   72329600.0   \n",
              "1982-09-09    0.079241    0.078683    0.079241    0.078683   63593600.0   \n",
              "...                ...         ...         ...         ...          ...   \n",
              "2022-08-26  171.050003  163.559998  170.570007  163.619995   78961000.0   \n",
              "2022-08-29  162.899994  159.820007  161.149994  161.380005   73314000.0   \n",
              "2022-08-30  162.559998  157.720001  162.130005  158.910004   77906200.0   \n",
              "2022-08-31  160.580002  157.139999  160.309998  157.220001   87991100.0   \n",
              "2022-09-01  158.419998  154.669998  156.639999  157.960007   74117400.0   \n",
              "\n",
              "             Adj Close  \n",
              "Date                    \n",
              "1982-09-02    0.063503  \n",
              "1982-09-03    0.063938  \n",
              "1982-09-07    0.060459  \n",
              "1982-09-08    0.062633  \n",
              "1982-09-09    0.061329  \n",
              "...                ...  \n",
              "2022-08-26  163.619995  \n",
              "2022-08-29  161.380005  \n",
              "2022-08-30  158.910004  \n",
              "2022-08-31  157.220001  \n",
              "2022-09-01  157.960007  \n",
              "\n",
              "[10085 rows x 6 columns]"
            ],
            "text/html": [
              "\n",
              "  <div id=\"df-ba8f4e76-05c9-4334-a7b5-d21a532c4d99\">\n",
              "    <div class=\"colab-df-container\">\n",
              "      <div>\n",
              "<style scoped>\n",
              "    .dataframe tbody tr th:only-of-type {\n",
              "        vertical-align: middle;\n",
              "    }\n",
              "\n",
              "    .dataframe tbody tr th {\n",
              "        vertical-align: top;\n",
              "    }\n",
              "\n",
              "    .dataframe thead th {\n",
              "        text-align: right;\n",
              "    }\n",
              "</style>\n",
              "<table border=\"1\" class=\"dataframe\">\n",
              "  <thead>\n",
              "    <tr style=\"text-align: right;\">\n",
              "      <th></th>\n",
              "      <th>High</th>\n",
              "      <th>Low</th>\n",
              "      <th>Open</th>\n",
              "      <th>Close</th>\n",
              "      <th>Volume</th>\n",
              "      <th>Adj Close</th>\n",
              "    </tr>\n",
              "    <tr>\n",
              "      <th>Date</th>\n",
              "      <th></th>\n",
              "      <th></th>\n",
              "      <th></th>\n",
              "      <th></th>\n",
              "      <th></th>\n",
              "      <th></th>\n",
              "    </tr>\n",
              "  </thead>\n",
              "  <tbody>\n",
              "    <tr>\n",
              "      <th>1982-09-02</th>\n",
              "      <td>0.082031</td>\n",
              "      <td>0.081473</td>\n",
              "      <td>0.081473</td>\n",
              "      <td>0.081473</td>\n",
              "      <td>75420800.0</td>\n",
              "      <td>0.063503</td>\n",
              "    </tr>\n",
              "    <tr>\n",
              "      <th>1982-09-03</th>\n",
              "      <td>0.082589</td>\n",
              "      <td>0.082031</td>\n",
              "      <td>0.082031</td>\n",
              "      <td>0.082031</td>\n",
              "      <td>104540800.0</td>\n",
              "      <td>0.063938</td>\n",
              "    </tr>\n",
              "    <tr>\n",
              "      <th>1982-09-07</th>\n",
              "      <td>0.078125</td>\n",
              "      <td>0.077567</td>\n",
              "      <td>0.078125</td>\n",
              "      <td>0.077567</td>\n",
              "      <td>81379200.0</td>\n",
              "      <td>0.060459</td>\n",
              "    </tr>\n",
              "    <tr>\n",
              "      <th>1982-09-08</th>\n",
              "      <td>0.080915</td>\n",
              "      <td>0.080357</td>\n",
              "      <td>0.080357</td>\n",
              "      <td>0.080357</td>\n",
              "      <td>72329600.0</td>\n",
              "      <td>0.062633</td>\n",
              "    </tr>\n",
              "    <tr>\n",
              "      <th>1982-09-09</th>\n",
              "      <td>0.079241</td>\n",
              "      <td>0.078683</td>\n",
              "      <td>0.079241</td>\n",
              "      <td>0.078683</td>\n",
              "      <td>63593600.0</td>\n",
              "      <td>0.061329</td>\n",
              "    </tr>\n",
              "    <tr>\n",
              "      <th>...</th>\n",
              "      <td>...</td>\n",
              "      <td>...</td>\n",
              "      <td>...</td>\n",
              "      <td>...</td>\n",
              "      <td>...</td>\n",
              "      <td>...</td>\n",
              "    </tr>\n",
              "    <tr>\n",
              "      <th>2022-08-26</th>\n",
              "      <td>171.050003</td>\n",
              "      <td>163.559998</td>\n",
              "      <td>170.570007</td>\n",
              "      <td>163.619995</td>\n",
              "      <td>78961000.0</td>\n",
              "      <td>163.619995</td>\n",
              "    </tr>\n",
              "    <tr>\n",
              "      <th>2022-08-29</th>\n",
              "      <td>162.899994</td>\n",
              "      <td>159.820007</td>\n",
              "      <td>161.149994</td>\n",
              "      <td>161.380005</td>\n",
              "      <td>73314000.0</td>\n",
              "      <td>161.380005</td>\n",
              "    </tr>\n",
              "    <tr>\n",
              "      <th>2022-08-30</th>\n",
              "      <td>162.559998</td>\n",
              "      <td>157.720001</td>\n",
              "      <td>162.130005</td>\n",
              "      <td>158.910004</td>\n",
              "      <td>77906200.0</td>\n",
              "      <td>158.910004</td>\n",
              "    </tr>\n",
              "    <tr>\n",
              "      <th>2022-08-31</th>\n",
              "      <td>160.580002</td>\n",
              "      <td>157.139999</td>\n",
              "      <td>160.309998</td>\n",
              "      <td>157.220001</td>\n",
              "      <td>87991100.0</td>\n",
              "      <td>157.220001</td>\n",
              "    </tr>\n",
              "    <tr>\n",
              "      <th>2022-09-01</th>\n",
              "      <td>158.419998</td>\n",
              "      <td>154.669998</td>\n",
              "      <td>156.639999</td>\n",
              "      <td>157.960007</td>\n",
              "      <td>74117400.0</td>\n",
              "      <td>157.960007</td>\n",
              "    </tr>\n",
              "  </tbody>\n",
              "</table>\n",
              "<p>10085 rows × 6 columns</p>\n",
              "</div>\n",
              "      <button class=\"colab-df-convert\" onclick=\"convertToInteractive('df-ba8f4e76-05c9-4334-a7b5-d21a532c4d99')\"\n",
              "              title=\"Convert this dataframe to an interactive table.\"\n",
              "              style=\"display:none;\">\n",
              "        \n",
              "  <svg xmlns=\"http://www.w3.org/2000/svg\" height=\"24px\"viewBox=\"0 0 24 24\"\n",
              "       width=\"24px\">\n",
              "    <path d=\"M0 0h24v24H0V0z\" fill=\"none\"/>\n",
              "    <path d=\"M18.56 5.44l.94 2.06.94-2.06 2.06-.94-2.06-.94-.94-2.06-.94 2.06-2.06.94zm-11 1L8.5 8.5l.94-2.06 2.06-.94-2.06-.94L8.5 2.5l-.94 2.06-2.06.94zm10 10l.94 2.06.94-2.06 2.06-.94-2.06-.94-.94-2.06-.94 2.06-2.06.94z\"/><path d=\"M17.41 7.96l-1.37-1.37c-.4-.4-.92-.59-1.43-.59-.52 0-1.04.2-1.43.59L10.3 9.45l-7.72 7.72c-.78.78-.78 2.05 0 2.83L4 21.41c.39.39.9.59 1.41.59.51 0 1.02-.2 1.41-.59l7.78-7.78 2.81-2.81c.8-.78.8-2.07 0-2.86zM5.41 20L4 18.59l7.72-7.72 1.47 1.35L5.41 20z\"/>\n",
              "  </svg>\n",
              "      </button>\n",
              "      \n",
              "  <style>\n",
              "    .colab-df-container {\n",
              "      display:flex;\n",
              "      flex-wrap:wrap;\n",
              "      gap: 12px;\n",
              "    }\n",
              "\n",
              "    .colab-df-convert {\n",
              "      background-color: #E8F0FE;\n",
              "      border: none;\n",
              "      border-radius: 50%;\n",
              "      cursor: pointer;\n",
              "      display: none;\n",
              "      fill: #1967D2;\n",
              "      height: 32px;\n",
              "      padding: 0 0 0 0;\n",
              "      width: 32px;\n",
              "    }\n",
              "\n",
              "    .colab-df-convert:hover {\n",
              "      background-color: #E2EBFA;\n",
              "      box-shadow: 0px 1px 2px rgba(60, 64, 67, 0.3), 0px 1px 3px 1px rgba(60, 64, 67, 0.15);\n",
              "      fill: #174EA6;\n",
              "    }\n",
              "\n",
              "    [theme=dark] .colab-df-convert {\n",
              "      background-color: #3B4455;\n",
              "      fill: #D2E3FC;\n",
              "    }\n",
              "\n",
              "    [theme=dark] .colab-df-convert:hover {\n",
              "      background-color: #434B5C;\n",
              "      box-shadow: 0px 1px 3px 1px rgba(0, 0, 0, 0.15);\n",
              "      filter: drop-shadow(0px 1px 2px rgba(0, 0, 0, 0.3));\n",
              "      fill: #FFFFFF;\n",
              "    }\n",
              "  </style>\n",
              "\n",
              "      <script>\n",
              "        const buttonEl =\n",
              "          document.querySelector('#df-ba8f4e76-05c9-4334-a7b5-d21a532c4d99 button.colab-df-convert');\n",
              "        buttonEl.style.display =\n",
              "          google.colab.kernel.accessAllowed ? 'block' : 'none';\n",
              "\n",
              "        async function convertToInteractive(key) {\n",
              "          const element = document.querySelector('#df-ba8f4e76-05c9-4334-a7b5-d21a532c4d99');\n",
              "          const dataTable =\n",
              "            await google.colab.kernel.invokeFunction('convertToInteractive',\n",
              "                                                     [key], {});\n",
              "          if (!dataTable) return;\n",
              "\n",
              "          const docLinkHtml = 'Like what you see? Visit the ' +\n",
              "            '<a target=\"_blank\" href=https://colab.research.google.com/notebooks/data_table.ipynb>data table notebook</a>'\n",
              "            + ' to learn more about interactive tables.';\n",
              "          element.innerHTML = '';\n",
              "          dataTable['output_type'] = 'display_data';\n",
              "          await google.colab.output.renderOutput(dataTable, element);\n",
              "          const docLink = document.createElement('div');\n",
              "          docLink.innerHTML = docLinkHtml;\n",
              "          element.appendChild(docLink);\n",
              "        }\n",
              "      </script>\n",
              "    </div>\n",
              "  </div>\n",
              "  "
            ]
          },
          "metadata": {},
          "execution_count": 2
        }
      ]
    },
    {
      "cell_type": "markdown",
      "source": [
        "---\n",
        "# DATA VISUALIZATION"
      ],
      "metadata": {
        "id": "gTMD2J4i8nrS"
      }
    },
    {
      "cell_type": "code",
      "source": [
        "#Visualizza la cronologia del prezzo di chiusura\n",
        "plt.figure(figsize=(20,12))\n",
        "plt.title('Close Price History')\n",
        "plt.plot(df['Close'], 'g')\n",
        "plt.xlabel('Date',fontsize=18)\n",
        "plt.ylabel('Close Price USD ($)',fontsize=18)\n",
        "plt.show()"
      ],
      "metadata": {
        "id": "R9Gyb8TrTga1",
        "colab": {
          "base_uri": "https://localhost:8080/",
          "height": 791
        },
        "outputId": "5e1dc49f-edc6-455d-eefb-0fca98028c53"
      },
      "execution_count": 3,
      "outputs": [
        {
          "output_type": "display_data",
          "data": {
            "text/plain": [
              "<Figure size 1440x864 with 1 Axes>"
            ],
            "image/png": "[encoded data removed]"
          },
          "metadata": {}
        }
      ]
    },
    {
      "cell_type": "markdown",
      "source": [
        "---\n",
        "# DATA PREPARATION"
      ],
      "metadata": {
        "id": "-ZkJWLjw79DA"
      }
    },
    {
      "cell_type": "markdown",
      "source": [
        "## Il seguente grafico mostra la cronologia dei prezzi delle azioni in fase di chiusura di Apple Inc nell'intervallo di tempo.\n",
        "\n",
        "## Task:\n",
        "*   Verrà definito un nuovo dataFrame con solo le informazioni relative al prezzo di chiusura.\n",
        "*   Il set di dati sarà convertilo in un array.\n",
        "*   Verrà creata una variabile per memorizzare la lunghezza del dataset di addestramento che contenga circa l'80% dei dati, in modo da poter utilizzare il restante 20% per il dataset di test.\n",
        "\n",
        "\n",
        "\n",
        "\n",
        "\n"
      ],
      "metadata": {
        "id": "A2WAhLPvXyXz"
      }
    },
    {
      "cell_type": "code",
      "source": [
        "#nuova dataframe solo con le chiusure\n",
        "data = df.filter(['Close'])\n",
        "#Convertiamolo in un numpy array\n",
        "dataset = data.values\n",
        "training_data_len = math.ceil( len(dataset) *.8) # 80% dei dati\n",
        "\n",
        "#Scala tutti i dati in modo che siano valori compresi tra 0 e 1 \n",
        "scaler = MinMaxScaler(feature_range=(0, 1)) \n",
        "scaled_data = scaler.fit_transform(dataset)"
      ],
      "metadata": {
        "id": "pWuqg_1nTjS1"
      },
      "execution_count": 4,
      "outputs": []
    },
    {
      "cell_type": "markdown",
      "source": [
        "Verrà creato un dataset di addestramento che contenga i valori del prezzo di chiusura degli ultimi Z giorni che si desidera utilizzare per prevedere il valore del prezzo di chiusura dal Z+1° in poi.\n",
        "\n",
        "La prima colonna nel dataset 'x_train' conterrà i valori del dataset dall'indice 0 all'indice Z-1 (Z valori in totale) e la seconda colonna conterrà i valori del dataset dall'indice 1 all'indice Z (Z valori) e così via. \n",
        "\n",
        "Il dataset \" y_train \" conterrà il Z+1° valore situato all'indice Z per la sua prima colonna e il 62° valore situato all'indice 61 del dataset per il suo secondo valore e così via.\n"
      ],
      "metadata": {
        "id": "F621fADbX8fN"
      }
    },
    {
      "cell_type": "code",
      "source": [
        "#Crea il set di dati per l'addestramento in scala\n",
        "train_data = scaled_data[0:training_data_len  , : ]\n",
        "\n",
        "#Intervallo di previsione\n",
        "Z=120 #quasi 3 mesi nel futuro\n",
        "\n",
        "\n",
        "#Dividi i dati nel x_train e  y_train\n",
        "x_train=[]\n",
        "y_train = []\n",
        "for i in range(Z,len(train_data)):\n",
        " x_train.append(train_data[i-Z:i,0])\n",
        " y_train.append(train_data[i,0])\n",
        "\n",
        "# Converti x_train e y_train in array\n",
        "x_train, y_train = np.array(x_train), np.array(y_train)\n",
        "print(\"x train shape :\",x_train.shape,\"\\ny train shape :\",y_train.shape)"
      ],
      "metadata": {
        "id": "n4wnklJUX93n",
        "colab": {
          "base_uri": "https://localhost:8080/"
        },
        "outputId": "d1e4c12d-f564-480c-f36b-197431e259d0"
      },
      "execution_count": 5,
      "outputs": [
        {
          "output_type": "stream",
          "name": "stdout",
          "text": [
            "x train shape : (7948, 120) \n",
            "y train shape : (7948,)\n"
          ]
        }
      ]
    },
    {
      "cell_type": "markdown",
      "source": [
        "## Rimodellare i dati in modo tridimensionale nella forma :\n",
        "\n",
        "1.   Numero di campioni \n",
        "2.   Numero di fasi temporali da prendere in considerazione\n",
        "3.   numero di caratteristiche\n",
        "\n",
        "Il modello LSTM si aspetta un set di dati tridimensionale."
      ],
      "metadata": {
        "id": "pQYsfd37YZLJ"
      }
    },
    {
      "cell_type": "code",
      "source": [
        "# Reshape i dati nella forma accettata da LSTM\n",
        "x_train = np.reshape(x_train, (x_train.shape[0],x_train.shape[1],1))\n",
        "print(\"x train shape :\",x_train.shape)"
      ],
      "metadata": {
        "id": "ZtMf9ezJYStH",
        "colab": {
          "base_uri": "https://localhost:8080/"
        },
        "outputId": "7aa71560-d5a8-4555-b50d-b7aaf7fb857c"
      },
      "execution_count": 6,
      "outputs": [
        {
          "output_type": "stream",
          "name": "stdout",
          "text": [
            "x train shape : (7948, 120, 1)\n"
          ]
        }
      ]
    },
    {
      "cell_type": "markdown",
      "source": [
        "---\n",
        "# MODEL TRAINING"
      ],
      "metadata": {
        "id": "-09ewzLX8Jc5"
      }
    },
    {
      "cell_type": "markdown",
      "source": [
        "## Costruisci il modello LSTM per avere :\n",
        "1. Due strati LSTM con 100 neuroni;\n",
        "\n",
        "2. Due strati densi di cui: \n",
        "\n",
        "  1. Uno con 25 neuroni;\n",
        "\n",
        "  2. L'altro con 1 neurone di output, ai fini della predizione;\n",
        "\n",
        "Compilare il modello utilizzando la funzione di perdita dell'errore quadratico medio (MSE) e l'ottimizzatore adam."
      ],
      "metadata": {
        "id": "yCvYCrCxYguA"
      }
    },
    {
      "cell_type": "code",
      "source": [
        "#Costruiamo il LSTM network model\n",
        "def LSTM_network_model():\n",
        "  model = Sequential()\n",
        "  model.add(LSTM(units=100, return_sequences=True,input_shape=(x_train.shape[1],1)))\n",
        "  model.add(LSTM(units=50, return_sequences=False))\n",
        "  model.add(Dense(units=25))\n",
        "  model.add(Dense(units=1))\n",
        "  return model\n",
        "\n",
        "model=LSTM_network_model()\n",
        "\n",
        "#Compila il modello model.compile\n",
        "model.compile(optimizer='adam', loss='mean_squared_error')"
      ],
      "metadata": {
        "id": "ca3-1hiXYdbH"
      },
      "execution_count": 18,
      "outputs": []
    },
    {
      "cell_type": "markdown",
      "source": [
        "Addestra il modello utilizzando il dataset di addestramento. La dimensione del batch è il numero totale di esempi di addestramento presenti in un singolo batch ed epoch è il numero di iterazioni in cui un intero dataset viene passato avanti e indietro attraverso la rete neurale."
      ],
      "metadata": {
        "id": "9eWmL1n4Yw6R"
      }
    },
    {
      "cell_type": "code",
      "source": [
        "#salvataggio \n",
        "def load_model(model_path, model):\n",
        "    model=load(model_path)\n",
        "    return model\n",
        "\n",
        "def save_model(model,model_path):\n",
        "    dump(model,model_path)\n",
        "    return model\n",
        "    \n",
        "def verifica_esistenza_modello(file_name):\n",
        "    esiste=False\n",
        "    try:\n",
        "        my_file = Path(file_name)\n",
        "        if my_file.is_file():\n",
        "          esiste=True\n",
        "    except IOError:\n",
        "        print(\"File not accessible\")\n",
        "    print(\"Il modello addestrato esiste?\",esiste)\n",
        "    return esiste\n",
        "\n",
        "EPOCHS=10\n",
        "path_name='/content/drive/MyDrive/project/Model/'+\"model_prediction_\"+society+\"_\"+str(INTERVALLO_ANNI)+\"y_\"+str(Z)+\"d_pred_\"+str(EPOCHS)+\"ep.model\"\n",
        "print(\"Path =\",path_name)\n",
        "exist_model=verifica_esistenza_modello(path_name)"
      ],
      "metadata": {
        "id": "n4IDNrYzcbzs",
        "colab": {
          "base_uri": "https://localhost:8080/"
        },
        "outputId": "ab193f19-5283-4f35-d493-7c954e015133"
      },
      "execution_count": 19,
      "outputs": [
        {
          "output_type": "stream",
          "name": "stdout",
          "text": [
            "Path = /content/drive/MyDrive/project/Model/model_prediction_AAPL_40y_120d_pred_10ep.model\n",
            "Il modello addestrato esiste? False\n"
          ]
        }
      ]
    },
    {
      "cell_type": "code",
      "source": [
        "if exist_model==False:\n",
        "  model.fit(x_train, y_train, batch_size=1, epochs=EPOCHS,workers=-1)\n",
        "  model=save_model(model,path_name)\n",
        "else:\n",
        "  model=load_model(path_name, model)"
      ],
      "metadata": {
        "id": "8TRDfyQ9Yqlv",
        "colab": {
          "base_uri": "https://localhost:8080/"
        },
        "outputId": "4b7f8321-fdd1-4026-b74d-dab476042873"
      },
      "execution_count": null,
      "outputs": [
        {
          "output_type": "stream",
          "name": "stdout",
          "text": [
            "Epoch 1/10\n",
            "7948/7948 [==============================] - 94s 11ms/step - loss: 2.8473e-05\n",
            "Epoch 2/10\n",
            "7948/7948 [==============================] - 88s 11ms/step - loss: 7.7322e-06\n",
            "Epoch 3/10\n",
            "7948/7948 [==============================] - 90s 11ms/step - loss: 5.3941e-06\n",
            "Epoch 4/10\n",
            "7948/7948 [==============================] - 90s 11ms/step - loss: 6.1889e-06\n",
            "Epoch 5/10\n",
            "7948/7948 [==============================] - 89s 11ms/step - loss: 3.2200e-06\n",
            "Epoch 6/10\n",
            "7948/7948 [==============================] - 90s 11ms/step - loss: 3.2606e-06\n",
            "Epoch 7/10\n",
            "3538/7948 [============>.................] - ETA: 49s - loss: 3.6918e-06"
          ]
        }
      ]
    },
    {
      "cell_type": "markdown",
      "source": [
        "---\n",
        "#TEST\n",
        "Crea un set di dati di test."
      ],
      "metadata": {
        "id": "G5i3cxGvY5me"
      }
    },
    {
      "cell_type": "code",
      "source": [
        "#Dati di test\n",
        "test_data = scaled_data[training_data_len - Z: , : ]\n",
        "#Crea i set di dati x_test e y_test\n",
        "x_test = []\n",
        "y_test = dataset[training_data_len : , : ] \n",
        "#Recupera tutte le righe dall'indice len(training_dataset) al resto e tutte le colonne (in questo caso è solo la colonna \"Close\")\n",
        "#per recuperare il 20% dei dati che c'eravamo tenuti per la fase di test\n",
        "for i in range(Z,len(test_data)):\n",
        " x_test.append(test_data[i-Z:i,0])"
      ],
      "metadata": {
        "id": "bQSFStnNYtiX"
      },
      "execution_count": null,
      "outputs": []
    },
    {
      "cell_type": "code",
      "source": [
        "# Converti x_test in un array numpy \n",
        "x_test = np.array(x_test)\n",
        "#Reshape i dati nella forma accettata da LSTM\n",
        "x_test = np.reshape(x_test, (x_test.shape[0],x_test.shape[1],1))"
      ],
      "metadata": {
        "id": "5kWGSuEsY-iS"
      },
      "execution_count": null,
      "outputs": []
    },
    {
      "cell_type": "markdown",
      "source": [
        "Ora ottieni i valori previsti dal modello utilizzando i dati del test."
      ],
      "metadata": {
        "id": "ldcB3tTmY9wh"
      }
    },
    {
      "cell_type": "code",
      "source": [
        "#Otteniamo le predizioni del modello\n",
        "predictions = model.predict(x_test) \n",
        "predictions = scaler.inverse_transform(predictions)"
      ],
      "metadata": {
        "id": "_P0T1W40ZKxV"
      },
      "execution_count": null,
      "outputs": []
    },
    {
      "cell_type": "markdown",
      "source": [
        "* Ottieni l'errore quadratico medio (RMSE), che è una buona misura dell'accuratezza del modello.\n",
        "\n",
        "* Un valore pari a 0 indica che i valori previsti dai modelli corrispondono perfettamente ai valori effettivi del set di dati del test.\n",
        "\n",
        "* Più basso è il valore, migliori saranno le prestazioni del modello. Ma di solito è meglio usare anche altre metriche per avere davvero un'idea di come si sia comportato bene il modello."
      ],
      "metadata": {
        "id": "7F8VrloaZOCt"
      }
    },
    {
      "cell_type": "code",
      "source": [
        "# Calcola / Ottieni il valore di RMSE\n",
        "rmse = mean_squared_error(y_test, predictions, squared=False)\n",
        "print(rmse)\n"
      ],
      "metadata": {
        "id": "ldI8FTe9ZLr3"
      },
      "execution_count": null,
      "outputs": []
    },
    {
      "cell_type": "markdown",
      "source": [
        "# Tracciamo e visualizziamo i dati.\n",
        "Il grafico che mostra i prezzi di formazione (training), effettivi (validi) e previsti (previsioni).\n",
        "\n",
        "Mostra i prezzi validi e previsti."
      ],
      "metadata": {
        "id": "h0aicOUaZSUt"
      }
    },
    {
      "cell_type": "code",
      "source": [
        "# Traccia / Crea i dati per il\n",
        "train = data[:training_data_len]\n",
        "valid = data[training_data_len:]\n",
        "valid['Predictions'] = predictions\n",
        "#Visualize the data\n",
        "plt.figure(figsize=(20,12))\n",
        "plt.title('Model')\n",
        "plt.xlabel('Date', fontsize=18)\n",
        "plt.ylabel('Close Price USD ($)', fontsize=18)\n",
        "plt.plot(train['Close'])\n",
        "plt.plot(valid[['Close', 'Predictions']])\n",
        "plt.legend(['Train', 'Val', 'Predictions'], loc='lower right')\n",
        "plt.show()\n"
      ],
      "metadata": {
        "id": "fC9BxQgeZRuY"
      },
      "execution_count": null,
      "outputs": []
    },
    {
      "cell_type": "code",
      "source": [
        "# I valori del prezzo effettivo (close) e previsto (previsioni).\n",
        "valid"
      ],
      "metadata": {
        "id": "wzbWFL4sZUiH"
      },
      "execution_count": null,
      "outputs": []
    },
    {
      "cell_type": "markdown",
      "source": [
        "---\n",
        "#Prediction\n",
        "\n",
        "Voglio testare ancora il modello e ottenere il valore del prezzo di chiusura previsto di Apple Inc. per il 2 settembre 2022 (2/09/2022).\n",
        "\n",
        "1. Convertirò i dati in un array che contiene solo il prezzo di chiusura, quindi otterrò il prezzo di chiusura degli ultimi 60 giorni e ridimensionerò i dati in modo che siano valori compresi tra 0 e 1 inclusi.\n",
        "\n",
        "2. Dopodiché creerò un elenco vuoto e vi aggiungerò il prezzo degli ultimi 60 giorni, quindi lo convertirò in un array numpy e lo rimodellerò in modo da poter inserire i dati nel modello.\n",
        "\n",
        "3. Ultimo ma non meno importante, inserirò i dati nel modello e otterrò il prezzo previsto."
      ],
      "metadata": {
        "id": "i1bzyfPyZeNS"
      }
    },
    {
      "cell_type": "code",
      "source": [
        "# Ottieni i dati\n",
        "prediction_date='2022-09-02'\n",
        "apple_quote = web.DataReader(society, data_source='yahoo', start=start, end=prediction_date)\n",
        "#Crea un nuovo dataframe\n",
        "new_df = apple_quote.filter(['Close'])\n",
        "# Ottieni il prezzo di chiusura degli ultimi Z giorni \n",
        "last_Z_days = new_df[-Z:].values\n",
        "#Scala i dati in modo che siano valori compresi tra 0 e 1\n",
        "last_Z_days_scaled = scaler.transform(last_Z_days)\n",
        "#Crea un elenco vuoto\n",
        "X_test = []\n",
        "#Appendi agli ultimi Z giorni\n",
        "X_test.append(last_Z_days_scaled)\n",
        "# Converti il ​​set di dati X_test in un array\n",
        "X_test = np.array(X_test)\n",
        "#ridimensioni i dati \n",
        "X_test = np.reshape(X_test, (X_test.shape[0], X_test.shape[1], 1))\n",
        "# Ottieni il prezzo scalato previsto\n",
        "pred_price = model.predict(X_test)\n",
        "\n",
        "pred_price = scaler.inverse_transform (pred_price)\n",
        "print (pred_price)"
      ],
      "metadata": {
        "id": "JaeqOBYMZamP"
      },
      "execution_count": null,
      "outputs": []
    },
    {
      "cell_type": "markdown",
      "source": [
        "Ora vediamo qual era il prezzo effettivo per quel giorno."
      ],
      "metadata": {
        "id": "iVTl208VZoEw"
      }
    },
    {
      "cell_type": "code",
      "source": [
        "apple_quote2 = web.DataReader(society, data_source='yahoo', start=prediction_date, end=prediction_date)\n",
        "print(apple_quote2['Close'])"
      ],
      "metadata": {
        "id": "f0UMACpYZrtc"
      },
      "execution_count": null,
      "outputs": []
    }
  ]
}