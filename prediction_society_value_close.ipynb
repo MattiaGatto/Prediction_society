{
  "nbformat": 4,
  "nbformat_minor": 0,
  "metadata": {
    "colab": {
      "provenance": [],
      "collapsed_sections": [
        "LYDRiqakSmox"
      ],
      "authorship_tag": "ABX9TyM5vXClb6bLYUJU5gD3GUwg",
      "include_colab_link": true
    },
    "kernelspec": {
      "name": "python3",
      "display_name": "Python 3"
    },
    "language_info": {
      "name": "python"
    },
    "accelerator": "GPU",
    "gpuClass": "standard"
  },
  "cells": [
    {
      "cell_type": "markdown",
      "metadata": {
        "id": "view-in-github",
        "colab_type": "text"
      },
      "source": [
        "<a href=\"https://colab.research.google.com/github/MattiaGatto/Prediction_society/blob/main/prediction_society_value_close.ipynb\" target=\"_parent\"><img src=\"https://colab.research.google.com/assets/colab-badge.svg\" alt=\"Open In Colab\"/></a>"
      ]
    },
    {
      "cell_type": "markdown",
      "source": [
        "# Modello che preveda i prezzi delle azioni di una azienda x giorni nel futuro in base al prezzo di chiusura corrente."
      ],
      "metadata": {
        "id": "LYDRiqakSmox"
      }
    },
    {
      "cell_type": "markdown",
      "source": [
        "---\n",
        "# Librerie necessarie all'utilizzo"
      ],
      "metadata": {
        "id": "QX7Le44Bum0a"
      }
    },
    {
      "cell_type": "code",
      "execution_count": 22,
      "metadata": {
        "colab": {
          "base_uri": "https://localhost:8080/"
        },
        "id": "IITWNHjySb6d",
        "outputId": "d2548638-e456-49e7-a871-cfe64ac752bf"
      },
      "outputs": [
        {
          "output_type": "stream",
          "name": "stdout",
          "text": [
            "Looking in indexes: https://pypi.org/simple, https://us-python.pkg.dev/colab-wheels/public/simple/\n",
            "Requirement already satisfied: pandas in /usr/local/lib/python3.7/dist-packages (1.3.5)\n",
            "Requirement already satisfied: python-dateutil>=2.7.3 in /usr/local/lib/python3.7/dist-packages (from pandas) (2.8.2)\n",
            "Requirement already satisfied: pytz>=2017.3 in /usr/local/lib/python3.7/dist-packages (from pandas) (2022.2.1)\n",
            "Requirement already satisfied: numpy>=1.17.3 in /usr/local/lib/python3.7/dist-packages (from pandas) (1.21.6)\n",
            "Requirement already satisfied: six>=1.5 in /usr/local/lib/python3.7/dist-packages (from python-dateutil>=2.7.3->pandas) (1.15.0)\n",
            "Looking in indexes: https://pypi.org/simple, https://us-python.pkg.dev/colab-wheels/public/simple/\n",
            "Requirement already satisfied: pandas-datareader in /usr/local/lib/python3.7/dist-packages (0.10.0)\n",
            "Requirement already satisfied: requests>=2.19.0 in /usr/local/lib/python3.7/dist-packages (from pandas-datareader) (2.23.0)\n",
            "Requirement already satisfied: lxml in /usr/local/lib/python3.7/dist-packages (from pandas-datareader) (4.9.1)\n",
            "Requirement already satisfied: pandas>=0.23 in /usr/local/lib/python3.7/dist-packages (from pandas-datareader) (1.3.5)\n",
            "Requirement already satisfied: pytz>=2017.3 in /usr/local/lib/python3.7/dist-packages (from pandas>=0.23->pandas-datareader) (2022.2.1)\n",
            "Requirement already satisfied: python-dateutil>=2.7.3 in /usr/local/lib/python3.7/dist-packages (from pandas>=0.23->pandas-datareader) (2.8.2)\n",
            "Requirement already satisfied: numpy>=1.17.3 in /usr/local/lib/python3.7/dist-packages (from pandas>=0.23->pandas-datareader) (1.21.6)\n",
            "Requirement already satisfied: six>=1.5 in /usr/local/lib/python3.7/dist-packages (from python-dateutil>=2.7.3->pandas>=0.23->pandas-datareader) (1.15.0)\n",
            "Requirement already satisfied: certifi>=2017.4.17 in /usr/local/lib/python3.7/dist-packages (from requests>=2.19.0->pandas-datareader) (2022.6.15)\n",
            "Requirement already satisfied: chardet<4,>=3.0.2 in /usr/local/lib/python3.7/dist-packages (from requests>=2.19.0->pandas-datareader) (3.0.4)\n",
            "Requirement already satisfied: idna<3,>=2.5 in /usr/local/lib/python3.7/dist-packages (from requests>=2.19.0->pandas-datareader) (2.10)\n",
            "Requirement already satisfied: urllib3!=1.25.0,!=1.25.1,<1.26,>=1.21.1 in /usr/local/lib/python3.7/dist-packages (from requests>=2.19.0->pandas-datareader) (1.24.3)\n",
            "Drive already mounted at /content/drive; to attempt to forcibly remount, call drive.mount(\"/content/drive\", force_remount=True).\n"
          ]
        }
      ],
      "source": [
        "!pip install --upgrade pandas\n",
        "!pip install --upgrade pandas-datareader\n",
        "import math\n",
        "import pandas_datareader as web\n",
        "import numpy as np\n",
        "import pandas as pd\n",
        "from sklearn.preprocessing import MinMaxScaler\n",
        "from keras.models import Sequential\n",
        "from keras.layers import Dense, LSTM\n",
        "import matplotlib.pyplot as plt\n",
        "from datetime import datetime\n",
        "from joblib import dump, load \n",
        "from pathlib import Path\n",
        "from sklearn.metrics import mean_squared_error\n",
        "plt.style.use('fivethirtyeight')\n",
        "from google.colab import drive\n",
        "drive.mount('/content/drive')"
      ]
    },
    {
      "cell_type": "markdown",
      "source": [
        "## Riceverò la quotazione delle azioni della società \"Meta\" utilizzando il ticker di borsa delle società (META) da 20 anni fa ad oggi.\n",
        "\n"
      ],
      "metadata": {
        "id": "gjODt-p_SzLu"
      }
    },
    {
      "cell_type": "code",
      "source": [
        "INTERVALLO_ANNI=20\n",
        "\n",
        "today=datetime.today().strftime('%Y-%m-%d')\n",
        "start=str( datetime(int(today[:4])-INTERVALLO_ANNI,int(today[5:7]),int(today[8:])))[:10]\n",
        "print(\"from\",start,\"to\",today)\n",
        "\n",
        "society='META'\n",
        "\n",
        "#Ricevi la quotazione di borsa \n",
        "df = web.DataReader(society, data_source='yahoo', start=start, end=today) \n",
        "\n",
        "#stampa il numero di righe e colonne nel set di dati.\n",
        "print(df.shape)\n",
        "\n",
        "#stampa le quotazioni\n",
        "df"
      ],
      "metadata": {
        "id": "hC7i-4HiSsAn",
        "colab": {
          "base_uri": "https://localhost:8080/",
          "height": 490
        },
        "outputId": "d2660910-43c6-49da-a6ec-ae7debbc05f8"
      },
      "execution_count": 23,
      "outputs": [
        {
          "output_type": "stream",
          "name": "stdout",
          "text": [
            "from 2002-09-02 to 2022-09-02\n",
            "(2591, 6)\n"
          ]
        },
        {
          "output_type": "execute_result",
          "data": {
            "text/plain": [
              "                  High         Low        Open       Close     Volume  \\\n",
              "Date                                                                    \n",
              "2012-05-18   45.000000   38.000000   42.049999   38.230000  573576400   \n",
              "2012-05-21   36.660000   33.000000   36.529999   34.029999  168192700   \n",
              "2012-05-22   33.590000   30.940001   32.610001   31.000000  101786600   \n",
              "2012-05-23   32.500000   31.360001   31.370001   32.000000   73600000   \n",
              "2012-05-24   33.209999   31.770000   32.950001   33.029999   50237200   \n",
              "...                ...         ...         ...         ...        ...   \n",
              "2022-08-29  163.050003  159.009995  160.660004  159.169998   20052700   \n",
              "2022-08-30  161.660004  155.910004  160.350006  157.160004   19567900   \n",
              "2022-08-31  167.839996  162.139999  167.070007  162.929993   40953000   \n",
              "2022-09-01  167.360001  160.350006  163.580002  165.360001   30145700   \n",
              "2022-09-02  167.929993  159.229996  167.449997  160.320007   22163097   \n",
              "\n",
              "             Adj Close  \n",
              "Date                    \n",
              "2012-05-18   38.230000  \n",
              "2012-05-21   34.029999  \n",
              "2012-05-22   31.000000  \n",
              "2012-05-23   32.000000  \n",
              "2012-05-24   33.029999  \n",
              "...                ...  \n",
              "2022-08-29  159.169998  \n",
              "2022-08-30  157.160004  \n",
              "2022-08-31  162.929993  \n",
              "2022-09-01  165.360001  \n",
              "2022-09-02  160.320007  \n",
              "\n",
              "[2591 rows x 6 columns]"
            ],
            "text/html": [
              "\n",
              "  <div id=\"df-9824f5e6-0a45-448f-ac2d-fade5e5d6824\">\n",
              "    <div class=\"colab-df-container\">\n",
              "      <div>\n",
              "<style scoped>\n",
              "    .dataframe tbody tr th:only-of-type {\n",
              "        vertical-align: middle;\n",
              "    }\n",
              "\n",
              "    .dataframe tbody tr th {\n",
              "        vertical-align: top;\n",
              "    }\n",
              "\n",
              "    .dataframe thead th {\n",
              "        text-align: right;\n",
              "    }\n",
              "</style>\n",
              "<table border=\"1\" class=\"dataframe\">\n",
              "  <thead>\n",
              "    <tr style=\"text-align: right;\">\n",
              "      <th></th>\n",
              "      <th>High</th>\n",
              "      <th>Low</th>\n",
              "      <th>Open</th>\n",
              "      <th>Close</th>\n",
              "      <th>Volume</th>\n",
              "      <th>Adj Close</th>\n",
              "    </tr>\n",
              "    <tr>\n",
              "      <th>Date</th>\n",
              "      <th></th>\n",
              "      <th></th>\n",
              "      <th></th>\n",
              "      <th></th>\n",
              "      <th></th>\n",
              "      <th></th>\n",
              "    </tr>\n",
              "  </thead>\n",
              "  <tbody>\n",
              "    <tr>\n",
              "      <th>2012-05-18</th>\n",
              "      <td>45.000000</td>\n",
              "      <td>38.000000</td>\n",
              "      <td>42.049999</td>\n",
              "      <td>38.230000</td>\n",
              "      <td>573576400</td>\n",
              "      <td>38.230000</td>\n",
              "    </tr>\n",
              "    <tr>\n",
              "      <th>2012-05-21</th>\n",
              "      <td>36.660000</td>\n",
              "      <td>33.000000</td>\n",
              "      <td>36.529999</td>\n",
              "      <td>34.029999</td>\n",
              "      <td>168192700</td>\n",
              "      <td>34.029999</td>\n",
              "    </tr>\n",
              "    <tr>\n",
              "      <th>2012-05-22</th>\n",
              "      <td>33.590000</td>\n",
              "      <td>30.940001</td>\n",
              "      <td>32.610001</td>\n",
              "      <td>31.000000</td>\n",
              "      <td>101786600</td>\n",
              "      <td>31.000000</td>\n",
              "    </tr>\n",
              "    <tr>\n",
              "      <th>2012-05-23</th>\n",
              "      <td>32.500000</td>\n",
              "      <td>31.360001</td>\n",
              "      <td>31.370001</td>\n",
              "      <td>32.000000</td>\n",
              "      <td>73600000</td>\n",
              "      <td>32.000000</td>\n",
              "    </tr>\n",
              "    <tr>\n",
              "      <th>2012-05-24</th>\n",
              "      <td>33.209999</td>\n",
              "      <td>31.770000</td>\n",
              "      <td>32.950001</td>\n",
              "      <td>33.029999</td>\n",
              "      <td>50237200</td>\n",
              "      <td>33.029999</td>\n",
              "    </tr>\n",
              "    <tr>\n",
              "      <th>...</th>\n",
              "      <td>...</td>\n",
              "      <td>...</td>\n",
              "      <td>...</td>\n",
              "      <td>...</td>\n",
              "      <td>...</td>\n",
              "      <td>...</td>\n",
              "    </tr>\n",
              "    <tr>\n",
              "      <th>2022-08-29</th>\n",
              "      <td>163.050003</td>\n",
              "      <td>159.009995</td>\n",
              "      <td>160.660004</td>\n",
              "      <td>159.169998</td>\n",
              "      <td>20052700</td>\n",
              "      <td>159.169998</td>\n",
              "    </tr>\n",
              "    <tr>\n",
              "      <th>2022-08-30</th>\n",
              "      <td>161.660004</td>\n",
              "      <td>155.910004</td>\n",
              "      <td>160.350006</td>\n",
              "      <td>157.160004</td>\n",
              "      <td>19567900</td>\n",
              "      <td>157.160004</td>\n",
              "    </tr>\n",
              "    <tr>\n",
              "      <th>2022-08-31</th>\n",
              "      <td>167.839996</td>\n",
              "      <td>162.139999</td>\n",
              "      <td>167.070007</td>\n",
              "      <td>162.929993</td>\n",
              "      <td>40953000</td>\n",
              "      <td>162.929993</td>\n",
              "    </tr>\n",
              "    <tr>\n",
              "      <th>2022-09-01</th>\n",
              "      <td>167.360001</td>\n",
              "      <td>160.350006</td>\n",
              "      <td>163.580002</td>\n",
              "      <td>165.360001</td>\n",
              "      <td>30145700</td>\n",
              "      <td>165.360001</td>\n",
              "    </tr>\n",
              "    <tr>\n",
              "      <th>2022-09-02</th>\n",
              "      <td>167.929993</td>\n",
              "      <td>159.229996</td>\n",
              "      <td>167.449997</td>\n",
              "      <td>160.320007</td>\n",
              "      <td>22163097</td>\n",
              "      <td>160.320007</td>\n",
              "    </tr>\n",
              "  </tbody>\n",
              "</table>\n",
              "<p>2591 rows × 6 columns</p>\n",
              "</div>\n",
              "      <button class=\"colab-df-convert\" onclick=\"convertToInteractive('df-9824f5e6-0a45-448f-ac2d-fade5e5d6824')\"\n",
              "              title=\"Convert this dataframe to an interactive table.\"\n",
              "              style=\"display:none;\">\n",
              "        \n",
              "  <svg xmlns=\"http://www.w3.org/2000/svg\" height=\"24px\"viewBox=\"0 0 24 24\"\n",
              "       width=\"24px\">\n",
              "    <path d=\"M0 0h24v24H0V0z\" fill=\"none\"/>\n",
              "    <path d=\"M18.56 5.44l.94 2.06.94-2.06 2.06-.94-2.06-.94-.94-2.06-.94 2.06-2.06.94zm-11 1L8.5 8.5l.94-2.06 2.06-.94-2.06-.94L8.5 2.5l-.94 2.06-2.06.94zm10 10l.94 2.06.94-2.06 2.06-.94-2.06-.94-.94-2.06-.94 2.06-2.06.94z\"/><path d=\"M17.41 7.96l-1.37-1.37c-.4-.4-.92-.59-1.43-.59-.52 0-1.04.2-1.43.59L10.3 9.45l-7.72 7.72c-.78.78-.78 2.05 0 2.83L4 21.41c.39.39.9.59 1.41.59.51 0 1.02-.2 1.41-.59l7.78-7.78 2.81-2.81c.8-.78.8-2.07 0-2.86zM5.41 20L4 18.59l7.72-7.72 1.47 1.35L5.41 20z\"/>\n",
              "  </svg>\n",
              "      </button>\n",
              "      \n",
              "  <style>\n",
              "    .colab-df-container {\n",
              "      display:flex;\n",
              "      flex-wrap:wrap;\n",
              "      gap: 12px;\n",
              "    }\n",
              "\n",
              "    .colab-df-convert {\n",
              "      background-color: #E8F0FE;\n",
              "      border: none;\n",
              "      border-radius: 50%;\n",
              "      cursor: pointer;\n",
              "      display: none;\n",
              "      fill: #1967D2;\n",
              "      height: 32px;\n",
              "      padding: 0 0 0 0;\n",
              "      width: 32px;\n",
              "    }\n",
              "\n",
              "    .colab-df-convert:hover {\n",
              "      background-color: #E2EBFA;\n",
              "      box-shadow: 0px 1px 2px rgba(60, 64, 67, 0.3), 0px 1px 3px 1px rgba(60, 64, 67, 0.15);\n",
              "      fill: #174EA6;\n",
              "    }\n",
              "\n",
              "    [theme=dark] .colab-df-convert {\n",
              "      background-color: #3B4455;\n",
              "      fill: #D2E3FC;\n",
              "    }\n",
              "\n",
              "    [theme=dark] .colab-df-convert:hover {\n",
              "      background-color: #434B5C;\n",
              "      box-shadow: 0px 1px 3px 1px rgba(0, 0, 0, 0.15);\n",
              "      filter: drop-shadow(0px 1px 2px rgba(0, 0, 0, 0.3));\n",
              "      fill: #FFFFFF;\n",
              "    }\n",
              "  </style>\n",
              "\n",
              "      <script>\n",
              "        const buttonEl =\n",
              "          document.querySelector('#df-9824f5e6-0a45-448f-ac2d-fade5e5d6824 button.colab-df-convert');\n",
              "        buttonEl.style.display =\n",
              "          google.colab.kernel.accessAllowed ? 'block' : 'none';\n",
              "\n",
              "        async function convertToInteractive(key) {\n",
              "          const element = document.querySelector('#df-9824f5e6-0a45-448f-ac2d-fade5e5d6824');\n",
              "          const dataTable =\n",
              "            await google.colab.kernel.invokeFunction('convertToInteractive',\n",
              "                                                     [key], {});\n",
              "          if (!dataTable) return;\n",
              "\n",
              "          const docLinkHtml = 'Like what you see? Visit the ' +\n",
              "            '<a target=\"_blank\" href=https://colab.research.google.com/notebooks/data_table.ipynb>data table notebook</a>'\n",
              "            + ' to learn more about interactive tables.';\n",
              "          element.innerHTML = '';\n",
              "          dataTable['output_type'] = 'display_data';\n",
              "          await google.colab.output.renderOutput(dataTable, element);\n",
              "          const docLink = document.createElement('div');\n",
              "          docLink.innerHTML = docLinkHtml;\n",
              "          element.appendChild(docLink);\n",
              "        }\n",
              "      </script>\n",
              "    </div>\n",
              "  </div>\n",
              "  "
            ]
          },
          "metadata": {},
          "execution_count": 23
        }
      ]
    },
    {
      "cell_type": "markdown",
      "source": [
        "---\n",
        "# DATA VISUALIZATION"
      ],
      "metadata": {
        "id": "gTMD2J4i8nrS"
      }
    },
    {
      "cell_type": "code",
      "source": [
        "#Visualizza la cronologia del prezzo di chiusura\n",
        "plt.figure(figsize=(20,12))\n",
        "plt.title('Close Price History')\n",
        "plt.plot(df['Close'], 'g')\n",
        "plt.xlabel('Date',fontsize=18)\n",
        "plt.ylabel('Close Price USD ($)',fontsize=18)\n",
        "plt.show()"
      ],
      "metadata": {
        "id": "R9Gyb8TrTga1",
        "colab": {
          "base_uri": "https://localhost:8080/",
          "height": 791
        },
        "outputId": "50230bb9-4e9b-4b15-90e9-2a16045bee9f"
      },
      "execution_count": 24,
      "outputs": [
        {
          "output_type": "display_data",
          "data": {
            "text/plain": [
              "<Figure size 1440x864 with 1 Axes>"
            ],
            "image/png": "[encoded data removed]"
          },
          "metadata": {}
        }
      ]
    },
    {
      "cell_type": "markdown",
      "source": [
        "---\n",
        "# DATA PREPARATION"
      ],
      "metadata": {
        "id": "-ZkJWLjw79DA"
      }
    },
    {
      "cell_type": "markdown",
      "source": [
        "## Il seguente grafico mostra la cronologia dei prezzi delle azioni in fase di chiusura di META nell'intervallo di tempo.\n",
        "\n",
        "## Task:\n",
        "*   Verrà definito un nuovo dataFrame con solo le informazioni relative al prezzo di chiusura.\n",
        "*   Il set di dati sarà convertilo in un array.\n",
        "*   Verrà creata una variabile per memorizzare la lunghezza del dataset di addestramento che contenga circa l'80% dei dati, in modo da poter utilizzare il restante 20% per il dataset di test.\n",
        "\n",
        "\n",
        "\n",
        "\n",
        "\n"
      ],
      "metadata": {
        "id": "A2WAhLPvXyXz"
      }
    },
    {
      "cell_type": "code",
      "source": [
        "#nuova dataframe solo con le chiusure\n",
        "data = df.filter(['Close'])\n",
        "#Convertiamolo in un numpy array\n",
        "dataset = data.values\n",
        "training_data_len = math.ceil( len(dataset) *.8) # 80% dei dati\n",
        "\n",
        "#Scala tutti i dati in modo che siano valori compresi tra 0 e 1 \n",
        "scaler = MinMaxScaler(feature_range=(0, 1)) \n",
        "scaled_data = scaler.fit_transform(dataset)"
      ],
      "metadata": {
        "id": "pWuqg_1nTjS1"
      },
      "execution_count": 25,
      "outputs": []
    },
    {
      "cell_type": "markdown",
      "source": [
        "Verrà creato un dataset di addestramento che contenga i valori del prezzo di chiusura degli ultimi Z giorni che si desidera utilizzare per prevedere il valore del prezzo di chiusura dal Z+1° in poi.\n",
        "\n",
        "La prima colonna nel dataset 'x_train' conterrà i valori del dataset dall'indice 0 all'indice Z-1 (Z valori in totale) e la seconda colonna conterrà i valori del dataset dall'indice 1 all'indice Z (Z valori) e così via. \n",
        "\n",
        "Il dataset \" y_train \" conterrà il Z+1° valore situato all'indice Z per la sua prima colonna e il Z+2° valore situato all'indice z+1 del dataset per il suo secondo valore e così via.\n"
      ],
      "metadata": {
        "id": "F621fADbX8fN"
      }
    },
    {
      "cell_type": "code",
      "source": [
        "#Crea il set di dati per l'addestramento in scala\n",
        "train_data = scaled_data[0:training_data_len  , : ]\n",
        "\n",
        "#Intervallo di previsione\n",
        "Z=60 #quasi 2 mesi nel futuro\n",
        "\n",
        "#Dividi i dati nel x_train e  y_train\n",
        "x_train=[]\n",
        "y_train = []\n",
        "for i in range(Z,len(train_data)):\n",
        " x_train.append(train_data[i-Z:i,0])\n",
        " y_train.append(train_data[i,0])\n",
        "\n",
        "# Converti x_train e y_train in array\n",
        "x_train, y_train = np.array(x_train), np.array(y_train)\n",
        "print(\"x train shape :\",x_train.shape,\"\\ny train shape :\",y_train.shape)"
      ],
      "metadata": {
        "id": "n4wnklJUX93n",
        "colab": {
          "base_uri": "https://localhost:8080/"
        },
        "outputId": "5e7ff28b-c112-4646-b749-e51b146107c0"
      },
      "execution_count": 26,
      "outputs": [
        {
          "output_type": "stream",
          "name": "stdout",
          "text": [
            "x train shape : (2013, 60) \n",
            "y train shape : (2013,)\n"
          ]
        }
      ]
    },
    {
      "cell_type": "markdown",
      "source": [
        "---\n",
        "# MODEL TRAINING"
      ],
      "metadata": {
        "id": "-09ewzLX8Jc5"
      }
    },
    {
      "cell_type": "code",
      "source": [
        "#caricamento \n",
        "def load_model(model_path, model):\n",
        "    model=load(model_path)\n",
        "    return model\n",
        "\n",
        "#salvataggio\n",
        "def save_model(model,model_path):\n",
        "    dump(model,model_path)\n",
        "    return model\n",
        "    \n",
        "def verifica_esistenza_modello(file_name):\n",
        "    esiste=False\n",
        "    try:\n",
        "        my_file = Path(file_name)\n",
        "        if my_file.is_file():\n",
        "          esiste=True\n",
        "    except IOError:\n",
        "        print(\"File not accessible\")\n",
        "    print(\"Il modello addestrato esiste?\",esiste)\n",
        "    return esiste"
      ],
      "metadata": {
        "id": "y18qJaOmh5Tr"
      },
      "execution_count": 27,
      "outputs": []
    },
    {
      "cell_type": "markdown",
      "source": [
        "## Rimodellare i dati in modo tridimensionale nella forma :\n",
        "\n",
        "1.   Numero di campioni \n",
        "2.   Numero di fasi temporali da prendere in considerazione\n",
        "3.   numero di caratteristiche\n",
        "\n",
        "Il modello LSTM si aspetta un set di dati tridimensionale."
      ],
      "metadata": {
        "id": "pQYsfd37YZLJ"
      }
    },
    {
      "cell_type": "code",
      "source": [
        "# Reshape i dati nella forma accettata da LSTM\n",
        "x_train = np.reshape(x_train, (x_train.shape[0],x_train.shape[1],1))\n",
        "print(\"x train shape :\",x_train.shape)"
      ],
      "metadata": {
        "id": "ZtMf9ezJYStH",
        "colab": {
          "base_uri": "https://localhost:8080/"
        },
        "outputId": "0ff599cb-bac4-4a43-d7b0-aba79c34c2fc"
      },
      "execution_count": 28,
      "outputs": [
        {
          "output_type": "stream",
          "name": "stdout",
          "text": [
            "x train shape : (2013, 60, 1)\n"
          ]
        }
      ]
    },
    {
      "cell_type": "markdown",
      "source": [
        "## Costruisci il modello LSTM per avere :\n",
        "1. Due strati LSTM con rispettivamente 32 e 16 neuroni;\n",
        "\n",
        "2. Due strati densi di cui: \n",
        "\n",
        "  1. Uno con 8 neuroni;\n",
        "\n",
        "  2. L'altro con 1 neurone di output, ai fini della predizione;\n",
        "\n",
        "Compilare il modello utilizzando la funzione di perdita dell'errore quadratico medio (MSE) e l'ottimizzatore adam."
      ],
      "metadata": {
        "id": "yCvYCrCxYguA"
      }
    },
    {
      "cell_type": "code",
      "source": [
        "#Costruiamo il LSTM network model\n",
        "def LSTM_network_model():\n",
        "  model = Sequential()\n",
        "  model.add(LSTM(units=32, return_sequences=True,input_shape=(x_train.shape[1],1)))\n",
        "  model.add(LSTM(units=16, return_sequences=False))\n",
        "  model.add(Dense(units=8))\n",
        "  model.add(Dense(units=1))\n",
        "  return model\n",
        "\n",
        "model=LSTM_network_model()\n",
        "\n",
        "#Compila il modello model.compile\n",
        "model.compile(optimizer='adam', loss='mean_squared_error')"
      ],
      "metadata": {
        "id": "ca3-1hiXYdbH"
      },
      "execution_count": 29,
      "outputs": []
    },
    {
      "cell_type": "markdown",
      "source": [
        "Addestra il modello utilizzando il dataset di addestramento. La dimensione del batch è il numero totale di esempi di addestramento presenti in un singolo batch ed epoch è il numero di iterazioni in cui un intero dataset viene passato avanti e indietro attraverso la rete neurale."
      ],
      "metadata": {
        "id": "9eWmL1n4Yw6R"
      }
    },
    {
      "cell_type": "code",
      "source": [
        "EPOCHS=10\n",
        "path_name='/content/drive/MyDrive/project/Model/'+\"model_prediction_\"+society+\"_\"+str(INTERVALLO_ANNI)+\"y_\"+str(Z)+\"d_pred_\"+str(EPOCHS)+\"ep.model\"\n",
        "print(\"Path =\",path_name)\n",
        "exist_model=verifica_esistenza_modello(path_name)"
      ],
      "metadata": {
        "id": "n4IDNrYzcbzs",
        "colab": {
          "base_uri": "https://localhost:8080/"
        },
        "outputId": "5a039566-98ba-4dbe-b3e4-3931e39bb30d"
      },
      "execution_count": 30,
      "outputs": [
        {
          "output_type": "stream",
          "name": "stdout",
          "text": [
            "Path = /content/drive/MyDrive/project/Model/model_prediction_META_20y_60d_pred_10ep.model\n",
            "Il modello addestrato esiste? True\n"
          ]
        }
      ]
    },
    {
      "cell_type": "code",
      "source": [
        "if exist_model==False:\n",
        "  model.fit(x_train, y_train, batch_size=1, epochs=EPOCHS,workers=-1)\n",
        "  model=save_model(model,path_name)\n",
        "else:\n",
        "  model=load_model(path_name, model)"
      ],
      "metadata": {
        "id": "8TRDfyQ9Yqlv"
      },
      "execution_count": 31,
      "outputs": []
    },
    {
      "cell_type": "markdown",
      "source": [
        "---\n",
        "#TEST\n",
        "Crea un set di dati di test."
      ],
      "metadata": {
        "id": "G5i3cxGvY5me"
      }
    },
    {
      "cell_type": "code",
      "source": [
        "#Dati di test\n",
        "test_data = scaled_data[training_data_len - Z: , : ]\n",
        "#Crea i set di dati x_test e y_test\n",
        "x_test = []\n",
        "y_test = dataset[training_data_len : , : ] \n",
        "#Recupera tutte le righe dall'indice len(training_dataset) al resto e tutte le colonne (in questo caso è solo la colonna \"Close\")\n",
        "#per recuperare il 20% dei dati che c'eravamo tenuti per la fase di test\n",
        "for i in range(Z,len(test_data)):\n",
        " x_test.append(test_data[i-Z:i,0])"
      ],
      "metadata": {
        "id": "bQSFStnNYtiX"
      },
      "execution_count": null,
      "outputs": []
    },
    {
      "cell_type": "code",
      "source": [
        "# Converti x_test in un array numpy \n",
        "x_test = np.array(x_test)\n",
        "#Reshape i dati nella forma accettata da LSTM\n",
        "x_test = np.reshape(x_test, (x_test.shape[0],x_test.shape[1],1))"
      ],
      "metadata": {
        "id": "5kWGSuEsY-iS"
      },
      "execution_count": null,
      "outputs": []
    },
    {
      "cell_type": "markdown",
      "source": [
        "Ora ottieni i valori previsti dal modello utilizzando i dati del test."
      ],
      "metadata": {
        "id": "ldcB3tTmY9wh"
      }
    },
    {
      "cell_type": "code",
      "source": [
        "#Otteniamo le predizioni del modello\n",
        "predictions = model.predict(x_test) \n",
        "predictions = scaler.inverse_transform(predictions)"
      ],
      "metadata": {
        "id": "_P0T1W40ZKxV"
      },
      "execution_count": null,
      "outputs": []
    },
    {
      "cell_type": "markdown",
      "source": [
        "* Ottieni l'errore quadratico medio (RMSE), che è una buona misura dell'accuratezza del modello.\n",
        "\n",
        "* Un valore pari a 0 indica che i valori previsti dai modelli corrispondono perfettamente ai valori effettivi del set di dati del test.\n",
        "\n",
        "* Più basso è il valore, migliori saranno le prestazioni del modello. Ma di solito è meglio usare anche altre metriche per avere davvero un'idea di come si sia comportato bene il modello."
      ],
      "metadata": {
        "id": "7F8VrloaZOCt"
      }
    },
    {
      "cell_type": "code",
      "source": [
        "# Calcola / Ottieni il valore di RMSE\n",
        "rmse = mean_squared_error(y_test, predictions, squared=False)\n",
        "print(rmse)\n"
      ],
      "metadata": {
        "id": "ldI8FTe9ZLr3",
        "colab": {
          "base_uri": "https://localhost:8080/"
        },
        "outputId": "1baaf104-cf7e-4928-84fe-0fc6a8730495"
      },
      "execution_count": null,
      "outputs": [
        {
          "output_type": "stream",
          "name": "stdout",
          "text": [
            "11.190501608653364\n"
          ]
        }
      ]
    },
    {
      "cell_type": "markdown",
      "source": [
        "# Tracciamo e visualizziamo i dati.\n",
        "Il grafico che mostra i prezzi di formazione (training), effettivi (validi) e previsti (previsioni).\n",
        "\n",
        "Mostra i prezzi validi e previsti."
      ],
      "metadata": {
        "id": "h0aicOUaZSUt"
      }
    },
    {
      "cell_type": "code",
      "source": [
        "# Traccia / Crea i dati per il\n",
        "train = data[:training_data_len]\n",
        "valid = data[training_data_len:]\n",
        "valid['Predictions'] = predictions\n",
        "#Visualize the data\n",
        "plt.figure(figsize=(20,12))\n",
        "plt.title('Model')\n",
        "plt.xlabel('Date', fontsize=18)\n",
        "plt.ylabel('Close Price USD ($)', fontsize=18)\n",
        "plt.plot(train['Close'])\n",
        "plt.plot(valid[['Close', 'Predictions']])\n",
        "plt.legend(['Train', 'Val', 'Predictions'], loc='lower right')\n",
        "plt.show()\n"
      ],
      "metadata": {
        "id": "fC9BxQgeZRuY",
        "colab": {
          "base_uri": "https://localhost:8080/",
          "height": 895
        },
        "outputId": "f52f9b0c-0f7e-44a2-ad94-98ab36f3411d"
      },
      "execution_count": null,
      "outputs": [
        {
          "output_type": "stream",
          "name": "stderr",
          "text": [
            "/usr/local/lib/python3.7/dist-packages/ipykernel_launcher.py:4: SettingWithCopyWarning: \n",
            "A value is trying to be set on a copy of a slice from a DataFrame.\n",
            "Try using .loc[row_indexer,col_indexer] = value instead\n",
            "\n",
            "See the caveats in the documentation: https://pandas.pydata.org/pandas-docs/stable/user_guide/indexing.html#returning-a-view-versus-a-copy\n",
            "  after removing the cwd from sys.path.\n"
          ]
        },
        {
          "output_type": "display_data",
          "data": {
            "text/plain": [
              "<Figure size 1440x864 with 1 Axes>"
            ],
            "image/png": "[encoded data removed]"
          },
          "metadata": {}
        }
      ]
    },
    {
      "cell_type": "code",
      "source": [
        "# I valori del prezzo effettivo (close) e previsto (previsioni).\n",
        "valid"
      ],
      "metadata": {
        "id": "wzbWFL4sZUiH",
        "colab": {
          "base_uri": "https://localhost:8080/",
          "height": 455
        },
        "outputId": "d2528cb0-774b-4a45-b11a-64bd69e1e461"
      },
      "execution_count": null,
      "outputs": [
        {
          "output_type": "execute_result",
          "data": {
            "text/plain": [
              "                 Close  Predictions\n",
              "Date                               \n",
              "2020-08-14  261.239990   256.498840\n",
              "2020-08-17  261.160004   256.313324\n",
              "2020-08-18  262.339996   256.278473\n",
              "2020-08-19  262.589996   257.544556\n",
              "2020-08-20  269.010010   257.791504\n",
              "...                ...          ...\n",
              "2022-08-29  159.169998   161.868317\n",
              "2022-08-30  157.160004   158.757416\n",
              "2022-08-31  162.929993   156.725281\n",
              "2022-09-01  165.360001   161.141815\n",
              "2022-09-02  160.945007   163.821945\n",
              "\n",
              "[518 rows x 2 columns]"
            ],
            "text/html": [
              "\n",
              "  <div id=\"df-be383702-ebd8-400d-99c9-982731a42154\">\n",
              "    <div class=\"colab-df-container\">\n",
              "      <div>\n",
              "<style scoped>\n",
              "    .dataframe tbody tr th:only-of-type {\n",
              "        vertical-align: middle;\n",
              "    }\n",
              "\n",
              "    .dataframe tbody tr th {\n",
              "        vertical-align: top;\n",
              "    }\n",
              "\n",
              "    .dataframe thead th {\n",
              "        text-align: right;\n",
              "    }\n",
              "</style>\n",
              "<table border=\"1\" class=\"dataframe\">\n",
              "  <thead>\n",
              "    <tr style=\"text-align: right;\">\n",
              "      <th></th>\n",
              "      <th>Close</th>\n",
              "      <th>Predictions</th>\n",
              "    </tr>\n",
              "    <tr>\n",
              "      <th>Date</th>\n",
              "      <th></th>\n",
              "      <th></th>\n",
              "    </tr>\n",
              "  </thead>\n",
              "  <tbody>\n",
              "    <tr>\n",
              "      <th>2020-08-14</th>\n",
              "      <td>261.239990</td>\n",
              "      <td>256.498840</td>\n",
              "    </tr>\n",
              "    <tr>\n",
              "      <th>2020-08-17</th>\n",
              "      <td>261.160004</td>\n",
              "      <td>256.313324</td>\n",
              "    </tr>\n",
              "    <tr>\n",
              "      <th>2020-08-18</th>\n",
              "      <td>262.339996</td>\n",
              "      <td>256.278473</td>\n",
              "    </tr>\n",
              "    <tr>\n",
              "      <th>2020-08-19</th>\n",
              "      <td>262.589996</td>\n",
              "      <td>257.544556</td>\n",
              "    </tr>\n",
              "    <tr>\n",
              "      <th>2020-08-20</th>\n",
              "      <td>269.010010</td>\n",
              "      <td>257.791504</td>\n",
              "    </tr>\n",
              "    <tr>\n",
              "      <th>...</th>\n",
              "      <td>...</td>\n",
              "      <td>...</td>\n",
              "    </tr>\n",
              "    <tr>\n",
              "      <th>2022-08-29</th>\n",
              "      <td>159.169998</td>\n",
              "      <td>161.868317</td>\n",
              "    </tr>\n",
              "    <tr>\n",
              "      <th>2022-08-30</th>\n",
              "      <td>157.160004</td>\n",
              "      <td>158.757416</td>\n",
              "    </tr>\n",
              "    <tr>\n",
              "      <th>2022-08-31</th>\n",
              "      <td>162.929993</td>\n",
              "      <td>156.725281</td>\n",
              "    </tr>\n",
              "    <tr>\n",
              "      <th>2022-09-01</th>\n",
              "      <td>165.360001</td>\n",
              "      <td>161.141815</td>\n",
              "    </tr>\n",
              "    <tr>\n",
              "      <th>2022-09-02</th>\n",
              "      <td>160.945007</td>\n",
              "      <td>163.821945</td>\n",
              "    </tr>\n",
              "  </tbody>\n",
              "</table>\n",
              "<p>518 rows × 2 columns</p>\n",
              "</div>\n",
              "      <button class=\"colab-df-convert\" onclick=\"convertToInteractive('df-be383702-ebd8-400d-99c9-982731a42154')\"\n",
              "              title=\"Convert this dataframe to an interactive table.\"\n",
              "              style=\"display:none;\">\n",
              "        \n",
              "  <svg xmlns=\"http://www.w3.org/2000/svg\" height=\"24px\"viewBox=\"0 0 24 24\"\n",
              "       width=\"24px\">\n",
              "    <path d=\"M0 0h24v24H0V0z\" fill=\"none\"/>\n",
              "    <path d=\"M18.56 5.44l.94 2.06.94-2.06 2.06-.94-2.06-.94-.94-2.06-.94 2.06-2.06.94zm-11 1L8.5 8.5l.94-2.06 2.06-.94-2.06-.94L8.5 2.5l-.94 2.06-2.06.94zm10 10l.94 2.06.94-2.06 2.06-.94-2.06-.94-.94-2.06-.94 2.06-2.06.94z\"/><path d=\"M17.41 7.96l-1.37-1.37c-.4-.4-.92-.59-1.43-.59-.52 0-1.04.2-1.43.59L10.3 9.45l-7.72 7.72c-.78.78-.78 2.05 0 2.83L4 21.41c.39.39.9.59 1.41.59.51 0 1.02-.2 1.41-.59l7.78-7.78 2.81-2.81c.8-.78.8-2.07 0-2.86zM5.41 20L4 18.59l7.72-7.72 1.47 1.35L5.41 20z\"/>\n",
              "  </svg>\n",
              "      </button>\n",
              "      \n",
              "  <style>\n",
              "    .colab-df-container {\n",
              "      display:flex;\n",
              "      flex-wrap:wrap;\n",
              "      gap: 12px;\n",
              "    }\n",
              "\n",
              "    .colab-df-convert {\n",
              "      background-color: #E8F0FE;\n",
              "      border: none;\n",
              "      border-radius: 50%;\n",
              "      cursor: pointer;\n",
              "      display: none;\n",
              "      fill: #1967D2;\n",
              "      height: 32px;\n",
              "      padding: 0 0 0 0;\n",
              "      width: 32px;\n",
              "    }\n",
              "\n",
              "    .colab-df-convert:hover {\n",
              "      background-color: #E2EBFA;\n",
              "      box-shadow: 0px 1px 2px rgba(60, 64, 67, 0.3), 0px 1px 3px 1px rgba(60, 64, 67, 0.15);\n",
              "      fill: #174EA6;\n",
              "    }\n",
              "\n",
              "    [theme=dark] .colab-df-convert {\n",
              "      background-color: #3B4455;\n",
              "      fill: #D2E3FC;\n",
              "    }\n",
              "\n",
              "    [theme=dark] .colab-df-convert:hover {\n",
              "      background-color: #434B5C;\n",
              "      box-shadow: 0px 1px 3px 1px rgba(0, 0, 0, 0.15);\n",
              "      filter: drop-shadow(0px 1px 2px rgba(0, 0, 0, 0.3));\n",
              "      fill: #FFFFFF;\n",
              "    }\n",
              "  </style>\n",
              "\n",
              "      <script>\n",
              "        const buttonEl =\n",
              "          document.querySelector('#df-be383702-ebd8-400d-99c9-982731a42154 button.colab-df-convert');\n",
              "        buttonEl.style.display =\n",
              "          google.colab.kernel.accessAllowed ? 'block' : 'none';\n",
              "\n",
              "        async function convertToInteractive(key) {\n",
              "          const element = document.querySelector('#df-be383702-ebd8-400d-99c9-982731a42154');\n",
              "          const dataTable =\n",
              "            await google.colab.kernel.invokeFunction('convertToInteractive',\n",
              "                                                     [key], {});\n",
              "          if (!dataTable) return;\n",
              "\n",
              "          const docLinkHtml = 'Like what you see? Visit the ' +\n",
              "            '<a target=\"_blank\" href=https://colab.research.google.com/notebooks/data_table.ipynb>data table notebook</a>'\n",
              "            + ' to learn more about interactive tables.';\n",
              "          element.innerHTML = '';\n",
              "          dataTable['output_type'] = 'display_data';\n",
              "          await google.colab.output.renderOutput(dataTable, element);\n",
              "          const docLink = document.createElement('div');\n",
              "          docLink.innerHTML = docLinkHtml;\n",
              "          element.appendChild(docLink);\n",
              "        }\n",
              "      </script>\n",
              "    </div>\n",
              "  </div>\n",
              "  "
            ]
          },
          "metadata": {},
          "execution_count": 16
        }
      ]
    },
    {
      "cell_type": "markdown",
      "source": [
        "---\n",
        "#Prediction\n",
        "\n",
        "Voglio testare ancora il modello e ottenere il valore del prezzo di chiusura previsto di Meta per il 2 settembre 2022 (2/09/2022).\n",
        "\n",
        "1. Convertirò i dati in un array che contiene solo il prezzo di chiusura, quindi otterrò il prezzo di chiusura degli ultimi 60 giorni e ridimensionerò i dati in modo che siano valori compresi tra 0 e 1 inclusi.\n",
        "\n",
        "2. Dopodiché creerò un elenco vuoto e vi aggiungerò il prezzo degli ultimi 60 giorni, quindi lo convertirò in un array numpy e lo rimodellerò in modo da poter inserire i dati nel modello.\n",
        "\n",
        "3. Ultimo ma non meno importante, inserirò i dati nel modello e otterrò il prezzo previsto."
      ],
      "metadata": {
        "id": "i1bzyfPyZeNS"
      }
    },
    {
      "cell_type": "code",
      "source": [
        "# Ottieni i dati\n",
        "prediction_date='2022-09-02'\n",
        "quote = web.DataReader(society, data_source='yahoo', start=start, end=prediction_date)\n",
        "#Crea un nuovo dataframe\n",
        "new_df = quote.filter(['Close'])\n",
        "# Ottieni il prezzo di chiusura degli ultimi Z giorni \n",
        "last_Z_days = new_df[-Z:].values\n",
        "#Scala i dati in modo che siano valori compresi tra 0 e 1\n",
        "last_Z_days_scaled = scaler.transform(last_Z_days)\n",
        "#Crea un elenco vuoto\n",
        "X_test = []\n",
        "#Appendi agli ultimi Z giorni\n",
        "X_test.append(last_Z_days_scaled)\n",
        "# Converti il ​​set di dati X_test in un array\n",
        "X_test = np.array(X_test)\n",
        "#ridimensioni i dati \n",
        "X_test = np.reshape(X_test, (X_test.shape[0], X_test.shape[1], 1))\n",
        "# Ottieni il prezzo scalato previsto\n",
        "pred_price = model.predict(X_test)\n",
        "\n",
        "pred_price = scaler.inverse_transform (pred_price)\n",
        "print (pred_price)"
      ],
      "metadata": {
        "id": "JaeqOBYMZamP",
        "colab": {
          "base_uri": "https://localhost:8080/"
        },
        "outputId": "daec313b-c0eb-48a6-af3c-d2e6e756b221"
      },
      "execution_count": null,
      "outputs": [
        {
          "output_type": "stream",
          "name": "stdout",
          "text": [
            "[[160.21855]]\n"
          ]
        }
      ]
    },
    {
      "cell_type": "markdown",
      "source": [
        "Ora vediamo qual era il prezzo effettivo per quel giorno."
      ],
      "metadata": {
        "id": "iVTl208VZoEw"
      }
    },
    {
      "cell_type": "code",
      "source": [
        "quote2 = web.DataReader(society, data_source='yahoo', start=prediction_date, end=prediction_date)\n",
        "print(quote2['Close'])"
      ],
      "metadata": {
        "id": "f0UMACpYZrtc",
        "colab": {
          "base_uri": "https://localhost:8080/"
        },
        "outputId": "2b963259-5dd6-4284-f802-e18471477c5c"
      },
      "execution_count": null,
      "outputs": [
        {
          "output_type": "stream",
          "name": "stdout",
          "text": [
            "Date\n",
            "2022-09-02    160.75\n",
            "Name: Close, dtype: float64\n"
          ]
        }
      ]
    },
    {
      "cell_type": "code",
      "source": [],
      "metadata": {
        "id": "k7b2jtr3p4Ae"
      },
      "execution_count": null,
      "outputs": []
    }
  ]
}